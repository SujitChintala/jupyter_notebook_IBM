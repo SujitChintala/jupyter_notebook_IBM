{
 "cells": [
  {
   "cell_type": "markdown",
   "id": "049d2017-4fff-44fe-ab3f-83d1549ba6a3",
   "metadata": {},
   "source": [
    "# Data Science Tools and Ecosystem"
   ]
  },
  {
   "cell_type": "markdown",
   "id": "9b91a4b9-f394-4529-a284-1987a60fed02",
   "metadata": {},
   "source": [
    "In this notebook, Data Science Tools and Ecosystem are summarized."
   ]
  },
  {
   "cell_type": "markdown",
   "id": "3eeb7479-2993-4fe8-aa71-b095d1658af3",
   "metadata": {},
   "source": [
    "**Objectives:**\n",
    "- List some of the most popular languages that Data Scientists use.\n",
    "- List some of the most commonly used libraries by Data Scientists.\n",
    "- Create a table about Data Science Tools in a markdown cell.\n",
    "- Execute a simple arithmetic expression."
   ]
  },
  {
   "cell_type": "markdown",
   "id": "b2a6b60c-958e-4225-9b84-fa88b9433a26",
   "metadata": {},
   "source": [
    "Some of the popular languages that Data Scientists use are:\n",
    "1. Python\n",
    "2. R\n",
    "3. SQL\n",
    "4. Scala\n",
    "5. Java Script\n",
    "6. Julia\n",
    "7. Matlab\n",
    "8. C"
   ]
  },
  {
   "cell_type": "markdown",
   "id": "3ae8354c-7cab-4069-a673-7fd0e6f788c9",
   "metadata": {},
   "source": [
    "Some of the commonly used libraries used by Data Scientists include:"
   ]
  },
  {
   "cell_type": "markdown",
   "id": "676c538c-61f3-4523-8a3c-5540df5fcb55",
   "metadata": {},
   "source": [
    "1. Pandas\n",
    "2. Numpy\n",
    "3. Matplotlib\n",
    "4. Seaborn\n",
    "5. Plotly\n",
    "6. ggplot"
   ]
  },
  {
   "cell_type": "markdown",
   "id": "c4eaa648-e099-4a0e-892f-88272075bf58",
   "metadata": {},
   "source": [
    "| Data Science Tools|\n",
    "---------------------\n",
    "|Jupyter Notebook|\n",
    "|RStudio|\n",
    "|Spyder|\n"
   ]
  },
  {
   "cell_type": "markdown",
   "id": "24099d21-17da-44fb-bbf9-3ee6c5957d01",
   "metadata": {},
   "source": [
    "### Below are a few examples of evaluating arithmetic expressions in Python."
   ]
  },
  {
   "cell_type": "code",
   "execution_count": 1,
   "id": "4c90069c-b18f-4eb3-bc4a-2c2ed4044099",
   "metadata": {},
   "outputs": [
    {
     "data": {
      "text/plain": [
       "17"
      ]
     },
     "execution_count": 1,
     "metadata": {},
     "output_type": "execute_result"
    }
   ],
   "source": [
    "# This is a arithmetic expression to first multiply two numbers and then add another number to their product.\n",
    "(3*4)+5"
   ]
  },
  {
   "cell_type": "code",
   "execution_count": 15,
   "id": "af250207-3403-41e1-9c74-45553081b45d",
   "metadata": {},
   "outputs": [
    {
     "name": "stdout",
     "output_type": "stream",
     "text": [
      "3.3333333333333335\n"
     ]
    }
   ],
   "source": [
    "#  This will convert 200 minutes to hours by diving by 60\n",
    "minutes=200\n",
    "one_hour=60\n",
    "hours=minutes/one_hour\n",
    "print(hours)"
   ]
  },
  {
   "cell_type": "markdown",
   "id": "2fee182c-36d5-4afd-b1b4-19ec2b34affd",
   "metadata": {},
   "source": [
    "## Author\n",
    "Saai Sujit Chintala"
   ]
  },
  {
   "cell_type": "code",
   "execution_count": null,
   "id": "e695baeb-2106-493d-9027-fe6a3e687ade",
   "metadata": {},
   "outputs": [],
   "source": []
  }
 ],
 "metadata": {
  "kernelspec": {
   "display_name": "Python 3 (ipykernel)",
   "language": "python",
   "name": "python3"
  },
  "language_info": {
   "codemirror_mode": {
    "name": "ipython",
    "version": 3
   },
   "file_extension": ".py",
   "mimetype": "text/x-python",
   "name": "python",
   "nbconvert_exporter": "python",
   "pygments_lexer": "ipython3",
   "version": "3.12.4"
  }
 },
 "nbformat": 4,
 "nbformat_minor": 5
}
